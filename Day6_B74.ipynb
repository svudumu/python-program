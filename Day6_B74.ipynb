{
 "cells": [
  {
   "cell_type": "code",
   "execution_count": 1,
   "metadata": {},
   "outputs": [
    {
     "name": "stdout",
     "output_type": "stream",
     "text": [
      "['swathi', 'sagar', 'shrika', 'sloka']\n"
     ]
    }
   ],
   "source": [
    "students = ['swathi','sagar','shrika','sloka']\n",
    "print(students)"
   ]
  },
  {
   "cell_type": "code",
   "execution_count": 2,
   "metadata": {},
   "outputs": [
    {
     "name": "stdout",
     "output_type": "stream",
     "text": [
      "keep up teh good work,Swathi\n"
     ]
    }
   ],
   "source": [
    "#using f function\n",
    "print(f\"keep up teh good work,{students[0].title()}\")"
   ]
  },
  {
   "cell_type": "code",
   "execution_count": 4,
   "metadata": {},
   "outputs": [
    {
     "name": "stdout",
     "output_type": "stream",
     "text": [
      "keep up the good work,swathi\n",
      "keep up the good work,sagar\n",
      "keep up the good work,shrika\n",
      "keep up the good work,sloka\n"
     ]
    }
   ],
   "source": [
    "for a in students:\n",
    "  print(f\"keep up the good work,{a}\")"
   ]
  },
  {
   "cell_type": "code",
   "execution_count": 5,
   "metadata": {},
   "outputs": [
    {
     "name": "stdout",
     "output_type": "stream",
     "text": [
      "keep up the good work,swathi\n",
      "\n",
      "keep up the good work,sagar\n",
      "\n",
      "keep up the good work,shrika\n",
      "\n",
      "keep up the good work,sloka\n",
      "\n"
     ]
    }
   ],
   "source": [
    "for a in students:\n",
    "  print(f\"keep up the good work,{a}\\n\")"
   ]
  },
  {
   "cell_type": "code",
   "execution_count": null,
   "metadata": {},
   "outputs": [],
   "source": []
  },
  {
   "cell_type": "code",
   "execution_count": null,
   "metadata": {},
   "outputs": [],
   "source": []
  }
 ],
 "metadata": {
  "kernelspec": {
   "display_name": "Python 3",
   "language": "python",
   "name": "python3"
  },
  "language_info": {
   "codemirror_mode": {
    "name": "ipython",
    "version": 3
   },
   "file_extension": ".py",
   "mimetype": "text/x-python",
   "name": "python",
   "nbconvert_exporter": "python",
   "pygments_lexer": "ipython3",
   "version": "3.8.3"
  }
 },
 "nbformat": 4,
 "nbformat_minor": 4
}
