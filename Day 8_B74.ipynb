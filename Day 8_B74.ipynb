{
 "cells": [
  {
   "cell_type": "code",
   "execution_count": 3,
   "metadata": {},
   "outputs": [
    {
     "name": "stdout",
     "output_type": "stream",
     "text": [
      "{'plantname': 'rose', 'leaves': 'green', 'flowers': 'red', 'bloom': 'all year'}\n"
     ]
    }
   ],
   "source": [
    "#Dictionary datatype\n",
    "plants = {'plantname':'rose','leaves':'green','flowers':'red','bloom':'all year'}\n",
    "print(plants)"
   ]
  },
  {
   "cell_type": "code",
   "execution_count": 4,
   "metadata": {},
   "outputs": [
    {
     "data": {
      "text/plain": [
       "dict"
      ]
     },
     "execution_count": 4,
     "metadata": {},
     "output_type": "execute_result"
    }
   ],
   "source": [
    "type(plants) "
   ]
  },
  {
   "cell_type": "code",
   "execution_count": 8,
   "metadata": {},
   "outputs": [
    {
     "name": "stdout",
     "output_type": "stream",
     "text": [
      "red\n"
     ]
    }
   ],
   "source": [
    "#i want to know the color of flowers\n",
    "print(plants['flowers'])"
   ]
  },
  {
   "cell_type": "code",
   "execution_count": 17,
   "metadata": {},
   "outputs": [
    {
     "name": "stdout",
     "output_type": "stream",
     "text": [
      "{'plantname': 'rose', 'leaves': 'green', 'flowers': 'red', 'bloom': 'all year', 'current_status': 'budding'}\n"
     ]
    }
   ],
   "source": [
    "#adding another key value\n",
    "plants = {'plantname':'rose','leaves':'green','flowers':'red','bloom':'all year'}\n",
    "plants['current_status']='budding'\n",
    "print(plants)"
   ]
  },
  {
   "cell_type": "code",
   "execution_count": 18,
   "metadata": {},
   "outputs": [
    {
     "name": "stdout",
     "output_type": "stream",
     "text": [
      "{'plantname': 'rose', 'leaves': 'brown', 'flowers': 'red', 'bloom': 'all year', 'current_status': 'budding'}\n"
     ]
    }
   ],
   "source": [
    "#modify the value\n",
    "plants['leaves']='brown'\n",
    "print(plants)"
   ]
  },
  {
   "cell_type": "code",
   "execution_count": 19,
   "metadata": {},
   "outputs": [
    {
     "name": "stdout",
     "output_type": "stream",
     "text": [
      "{'plantname': 'rose', 'leaves': 'brown', 'flowers': 'red', 'current_status': 'budding'}\n"
     ]
    }
   ],
   "source": [
    "#deleting the keyvalue:\n",
    "del plants['bloom']\n",
    "print(plants)"
   ]
  },
  {
   "cell_type": "code",
   "execution_count": null,
   "metadata": {},
   "outputs": [],
   "source": []
  }
 ],
 "metadata": {
  "kernelspec": {
   "display_name": "Python 3",
   "language": "python",
   "name": "python3"
  },
  "language_info": {
   "codemirror_mode": {
    "name": "ipython",
    "version": 3
   },
   "file_extension": ".py",
   "mimetype": "text/x-python",
   "name": "python",
   "nbconvert_exporter": "python",
   "pygments_lexer": "ipython3",
   "version": "3.8.3"
  }
 },
 "nbformat": 4,
 "nbformat_minor": 4
}
